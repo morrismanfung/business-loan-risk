{
 "cells": [
  {
   "attachments": {},
   "cell_type": "markdown",
   "metadata": {},
   "source": [
    "# Exploratory Data Analysis"
   ]
  },
  {
   "attachments": {},
   "cell_type": "markdown",
   "metadata": {},
   "source": [
    "## General"
   ]
  },
  {
   "cell_type": "code",
   "execution_count": 1,
   "metadata": {
    "vscode": {
     "languageId": "r"
    }
   },
   "outputs": [
    {
     "name": "stderr",
     "output_type": "stream",
     "text": [
      "Warning message:\n",
      "\"package 'tidyverse' was built under R version 4.2.2\"\n",
      "── \u001b[1mAttaching packages\u001b[22m ─────────────────────────────────────── tidyverse 1.3.2 ──\n",
      "\u001b[32m✔\u001b[39m \u001b[34mggplot2\u001b[39m 3.4.0     \u001b[32m✔\u001b[39m \u001b[34mpurrr  \u001b[39m 1.0.1\n",
      "\u001b[32m✔\u001b[39m \u001b[34mtibble \u001b[39m 3.1.8     \u001b[32m✔\u001b[39m \u001b[34mdplyr  \u001b[39m 1.1.0\n",
      "\u001b[32m✔\u001b[39m \u001b[34mtidyr  \u001b[39m 1.3.0     \u001b[32m✔\u001b[39m \u001b[34mstringr\u001b[39m 1.5.0\n",
      "\u001b[32m✔\u001b[39m \u001b[34mreadr  \u001b[39m 2.1.3     \u001b[32m✔\u001b[39m \u001b[34mforcats\u001b[39m 1.0.0\n",
      "Warning message:\n",
      "\"package 'ggplot2' was built under R version 4.2.2\"\n",
      "Warning message:\n",
      "\"package 'tidyr' was built under R version 4.2.2\"\n",
      "Warning message:\n",
      "\"package 'readr' was built under R version 4.2.2\"\n",
      "Warning message:\n",
      "\"package 'purrr' was built under R version 4.2.2\"\n",
      "Warning message:\n",
      "\"package 'dplyr' was built under R version 4.2.2\"\n",
      "Warning message:\n",
      "\"package 'stringr' was built under R version 4.2.2\"\n",
      "Warning message:\n",
      "\"package 'forcats' was built under R version 4.2.2\"\n",
      "── \u001b[1mConflicts\u001b[22m ────────────────────────────────────────── tidyverse_conflicts() ──\n",
      "\u001b[31m✖\u001b[39m \u001b[34mdplyr\u001b[39m::\u001b[32mfilter()\u001b[39m masks \u001b[34mstats\u001b[39m::filter()\n",
      "\u001b[31m✖\u001b[39m \u001b[34mdplyr\u001b[39m::\u001b[32mlag()\u001b[39m    masks \u001b[34mstats\u001b[39m::lag()\n"
     ]
    }
   ],
   "source": [
    "library( tidyverse)"
   ]
  },
  {
   "cell_type": "code",
   "execution_count": 2,
   "metadata": {
    "vscode": {
     "languageId": "r"
    }
   },
   "outputs": [
    {
     "name": "stderr",
     "output_type": "stream",
     "text": [
      "\u001b[1mRows: \u001b[22m\u001b[34m111341\u001b[39m \u001b[1mColumns: \u001b[22m\u001b[34m38\u001b[39m\n",
      "\u001b[36m──\u001b[39m \u001b[1mColumn specification\u001b[22m \u001b[36m────────────────────────────────────────────────────────\u001b[39m\n",
      "\u001b[1mDelimiter:\u001b[22m \",\"\n",
      "\u001b[31mchr\u001b[39m (28): BorrName, BorrStreet, BorrCity, BorrState, BorrZip, CDC_Name, CDC_...\n",
      "\u001b[32mdbl\u001b[39m  (9): AsOfDate, Program, ThirdPartyDollars, GrossApproval, ApprovalFisca...\n",
      "\u001b[33mlgl\u001b[39m  (1): BusinessAge\n",
      "\n",
      "\u001b[36mℹ\u001b[39m Use `spec()` to retrieve the full column specification for this data.\n",
      "\u001b[36mℹ\u001b[39m Specify the column types or set `show_col_types = FALSE` to quiet this message.\n",
      "\u001b[1mRows: \u001b[22m\u001b[34m96344\u001b[39m \u001b[1mColumns: \u001b[22m\u001b[34m38\u001b[39m\n",
      "\u001b[36m──\u001b[39m \u001b[1mColumn specification\u001b[22m \u001b[36m────────────────────────────────────────────────────────\u001b[39m\n",
      "\u001b[1mDelimiter:\u001b[22m \",\"\n",
      "\u001b[31mchr\u001b[39m (29): BorrName, BorrStreet, BorrCity, BorrState, BorrZip, CDC_Name, CDC_...\n",
      "\u001b[32mdbl\u001b[39m  (9): AsOfDate, Program, ThirdPartyDollars, GrossApproval, ApprovalFisca...\n",
      "\n",
      "\u001b[36mℹ\u001b[39m Use `spec()` to retrieve the full column specification for this data.\n",
      "\u001b[36mℹ\u001b[39m Specify the column types or set `show_col_types = FALSE` to quiet this message.\n"
     ]
    }
   ],
   "source": [
    "df_1991 = read_csv( '../data/foia-504-fy1991-fy2009-asof-221231.csv')\n",
    "df_2010 = read_csv( '../data/foia-504-fy2010-present-asof-221231.csv')\n",
    "df = rbind( df_1991, df_2010)"
   ]
  },
  {
   "cell_type": "code",
   "execution_count": 3,
   "metadata": {
    "vscode": {
     "languageId": "r"
    }
   },
   "outputs": [
    {
     "data": {
      "text/html": [
       "<table class=\"dataframe\">\n",
       "<caption>A tibble: 6 × 38</caption>\n",
       "<thead>\n",
       "\t<tr><th scope=col>AsOfDate</th><th scope=col>Program</th><th scope=col>BorrName</th><th scope=col>BorrStreet</th><th scope=col>BorrCity</th><th scope=col>BorrState</th><th scope=col>BorrZip</th><th scope=col>CDC_Name</th><th scope=col>CDC_Street</th><th scope=col>CDC_City</th><th scope=col>⋯</th><th scope=col>ProjectState</th><th scope=col>SBADistrictOffice</th><th scope=col>CongressionalDistrict</th><th scope=col>BusinessType</th><th scope=col>BusinessAge</th><th scope=col>LoanStatus</th><th scope=col>PaidInFullDate</th><th scope=col>ChargeOffDate</th><th scope=col>GrossChargeOffAmount</th><th scope=col>JobsSupported</th></tr>\n",
       "\t<tr><th scope=col>&lt;dbl&gt;</th><th scope=col>&lt;dbl&gt;</th><th scope=col>&lt;chr&gt;</th><th scope=col>&lt;chr&gt;</th><th scope=col>&lt;chr&gt;</th><th scope=col>&lt;chr&gt;</th><th scope=col>&lt;chr&gt;</th><th scope=col>&lt;chr&gt;</th><th scope=col>&lt;chr&gt;</th><th scope=col>&lt;chr&gt;</th><th scope=col>⋯</th><th scope=col>&lt;chr&gt;</th><th scope=col>&lt;chr&gt;</th><th scope=col>&lt;chr&gt;</th><th scope=col>&lt;chr&gt;</th><th scope=col>&lt;chr&gt;</th><th scope=col>&lt;chr&gt;</th><th scope=col>&lt;chr&gt;</th><th scope=col>&lt;chr&gt;</th><th scope=col>&lt;dbl&gt;</th><th scope=col>&lt;dbl&gt;</th></tr>\n",
       "</thead>\n",
       "<tbody>\n",
       "\t<tr><td>20221231</td><td>504</td><td>JACK BINGHAM PHOTOGRAPHY   </td><td>SCRUTON POND ROAD        </td><td>BARRINGTON </td><td>NH</td><td>03825</td><td>Granite State Economic Develop</td><td>One Cate Street        </td><td>Portsmouth    </td><td>⋯</td><td>NH</td><td>NEW HAMPSHIRE DISTRICT OFFICE</td><td>01</td><td>INDIVIDUAL </td><td>NA</td><td>PIF   </td><td>05/31/2005</td><td>NA</td><td>0</td><td> 4</td></tr>\n",
       "\t<tr><td>20221231</td><td>504</td><td>INTERMTN LIFT, INCORPORATED</td><td>2120 SOUTH STATE STREET  </td><td>SPRINGVILLE</td><td>UT</td><td>84663</td><td>Mountain West Small Business F</td><td>2595 East 3300 South   </td><td>Salt Lake City</td><td>⋯</td><td>UT</td><td>UTAH DISTRICT OFFICE         </td><td>03</td><td>CORPORATION</td><td>NA</td><td>PIF   </td><td>01/31/2012</td><td>NA</td><td>0</td><td>35</td></tr>\n",
       "\t<tr><td>20221231</td><td>504</td><td>ITALPAST, AMERICA, INC.    </td><td>2210 HEWITT              </td><td>EVERETT    </td><td>WA</td><td>98290</td><td>Evergreen Business Capital    </td><td>13925 Interurban Ave. S</td><td>Seattle       </td><td>⋯</td><td>WA</td><td>SEATTLE DISTRICT OFFICE      </td><td>01</td><td>CORPORATION</td><td>NA</td><td>PIF   </td><td>05/31/2005</td><td>NA</td><td>0</td><td>11</td></tr>\n",
       "\t<tr><td>20221231</td><td>504</td><td>WAREHOUSE PLUS, INC.       </td><td>7001 HIGHWAY 271 SOUTH   </td><td>FORT SMITH </td><td>AR</td><td>72903</td><td>NA                            </td><td>NA                     </td><td>NA            </td><td>⋯</td><td>AR</td><td>ARKANSAS DISTRICT OFFICE     </td><td>03</td><td>CORPORATION</td><td>NA</td><td>PIF   </td><td>05/31/2005</td><td>NA</td><td>0</td><td> 8</td></tr>\n",
       "\t<tr><td>20221231</td><td>504</td><td><span style=white-space:pre-wrap>SPECIALTY PRODUCTS         </span></td><td>40TH ST. &amp; DONALD PARKWAY</td><td><span style=white-space:pre-wrap>FAIRFIELD  </span></td><td>AL</td><td>35208</td><td><span style=white-space:pre-wrap>Southern Development Council  </span></td><td><span style=white-space:pre-wrap>200 Office Park Dr.    </span></td><td>Mountain Brook</td><td>⋯</td><td>AL</td><td><span style=white-space:pre-wrap>ALABAMA DISTRICT OFFICE      </span></td><td>07</td><td>INDIVIDUAL </td><td>NA</td><td>CANCLD</td><td><span style=white-space:pre-wrap>NA        </span></td><td>NA</td><td>0</td><td>15</td></tr>\n",
       "\t<tr><td>20221231</td><td>504</td><td>ANOKA SPORT SHACK          </td><td>202 MAIN ST.             </td><td>ANOKA      </td><td>MN</td><td>55303</td><td>Central Minnesota Development </td><td>1885 Station Parkway   </td><td>Andover       </td><td>⋯</td><td>MN</td><td>MINNESOTA DISTRICT OFFICE    </td><td>03</td><td>CORPORATION</td><td>NA</td><td>PIF   </td><td>05/31/2005</td><td>NA</td><td>0</td><td> 8</td></tr>\n",
       "</tbody>\n",
       "</table>\n"
      ],
      "text/latex": [
       "A tibble: 6 × 38\n",
       "\\begin{tabular}{lllllllllllllllllllll}\n",
       " AsOfDate & Program & BorrName & BorrStreet & BorrCity & BorrState & BorrZip & CDC\\_Name & CDC\\_Street & CDC\\_City & ⋯ & ProjectState & SBADistrictOffice & CongressionalDistrict & BusinessType & BusinessAge & LoanStatus & PaidInFullDate & ChargeOffDate & GrossChargeOffAmount & JobsSupported\\\\\n",
       " <dbl> & <dbl> & <chr> & <chr> & <chr> & <chr> & <chr> & <chr> & <chr> & <chr> & ⋯ & <chr> & <chr> & <chr> & <chr> & <chr> & <chr> & <chr> & <chr> & <dbl> & <dbl>\\\\\n",
       "\\hline\n",
       "\t 20221231 & 504 & JACK BINGHAM PHOTOGRAPHY    & SCRUTON POND ROAD         & BARRINGTON  & NH & 03825 & Granite State Economic Develop & One Cate Street         & Portsmouth     & ⋯ & NH & NEW HAMPSHIRE DISTRICT OFFICE & 01 & INDIVIDUAL  & NA & PIF    & 05/31/2005 & NA & 0 &  4\\\\\n",
       "\t 20221231 & 504 & INTERMTN LIFT, INCORPORATED & 2120 SOUTH STATE STREET   & SPRINGVILLE & UT & 84663 & Mountain West Small Business F & 2595 East 3300 South    & Salt Lake City & ⋯ & UT & UTAH DISTRICT OFFICE          & 03 & CORPORATION & NA & PIF    & 01/31/2012 & NA & 0 & 35\\\\\n",
       "\t 20221231 & 504 & ITALPAST, AMERICA, INC.     & 2210 HEWITT               & EVERETT     & WA & 98290 & Evergreen Business Capital     & 13925 Interurban Ave. S & Seattle        & ⋯ & WA & SEATTLE DISTRICT OFFICE       & 01 & CORPORATION & NA & PIF    & 05/31/2005 & NA & 0 & 11\\\\\n",
       "\t 20221231 & 504 & WAREHOUSE PLUS, INC.        & 7001 HIGHWAY 271 SOUTH    & FORT SMITH  & AR & 72903 & NA                             & NA                      & NA             & ⋯ & AR & ARKANSAS DISTRICT OFFICE      & 03 & CORPORATION & NA & PIF    & 05/31/2005 & NA & 0 &  8\\\\\n",
       "\t 20221231 & 504 & SPECIALTY PRODUCTS          & 40TH ST. \\& DONALD PARKWAY & FAIRFIELD   & AL & 35208 & Southern Development Council   & 200 Office Park Dr.     & Mountain Brook & ⋯ & AL & ALABAMA DISTRICT OFFICE       & 07 & INDIVIDUAL  & NA & CANCLD & NA         & NA & 0 & 15\\\\\n",
       "\t 20221231 & 504 & ANOKA SPORT SHACK           & 202 MAIN ST.              & ANOKA       & MN & 55303 & Central Minnesota Development  & 1885 Station Parkway    & Andover        & ⋯ & MN & MINNESOTA DISTRICT OFFICE     & 03 & CORPORATION & NA & PIF    & 05/31/2005 & NA & 0 &  8\\\\\n",
       "\\end{tabular}\n"
      ],
      "text/markdown": [
       "\n",
       "A tibble: 6 × 38\n",
       "\n",
       "| AsOfDate &lt;dbl&gt; | Program &lt;dbl&gt; | BorrName &lt;chr&gt; | BorrStreet &lt;chr&gt; | BorrCity &lt;chr&gt; | BorrState &lt;chr&gt; | BorrZip &lt;chr&gt; | CDC_Name &lt;chr&gt; | CDC_Street &lt;chr&gt; | CDC_City &lt;chr&gt; | ⋯ ⋯ | ProjectState &lt;chr&gt; | SBADistrictOffice &lt;chr&gt; | CongressionalDistrict &lt;chr&gt; | BusinessType &lt;chr&gt; | BusinessAge &lt;chr&gt; | LoanStatus &lt;chr&gt; | PaidInFullDate &lt;chr&gt; | ChargeOffDate &lt;chr&gt; | GrossChargeOffAmount &lt;dbl&gt; | JobsSupported &lt;dbl&gt; |\n",
       "|---|---|---|---|---|---|---|---|---|---|---|---|---|---|---|---|---|---|---|---|---|\n",
       "| 20221231 | 504 | JACK BINGHAM PHOTOGRAPHY    | SCRUTON POND ROAD         | BARRINGTON  | NH | 03825 | Granite State Economic Develop | One Cate Street         | Portsmouth     | ⋯ | NH | NEW HAMPSHIRE DISTRICT OFFICE | 01 | INDIVIDUAL  | NA | PIF    | 05/31/2005 | NA | 0 |  4 |\n",
       "| 20221231 | 504 | INTERMTN LIFT, INCORPORATED | 2120 SOUTH STATE STREET   | SPRINGVILLE | UT | 84663 | Mountain West Small Business F | 2595 East 3300 South    | Salt Lake City | ⋯ | UT | UTAH DISTRICT OFFICE          | 03 | CORPORATION | NA | PIF    | 01/31/2012 | NA | 0 | 35 |\n",
       "| 20221231 | 504 | ITALPAST, AMERICA, INC.     | 2210 HEWITT               | EVERETT     | WA | 98290 | Evergreen Business Capital     | 13925 Interurban Ave. S | Seattle        | ⋯ | WA | SEATTLE DISTRICT OFFICE       | 01 | CORPORATION | NA | PIF    | 05/31/2005 | NA | 0 | 11 |\n",
       "| 20221231 | 504 | WAREHOUSE PLUS, INC.        | 7001 HIGHWAY 271 SOUTH    | FORT SMITH  | AR | 72903 | NA                             | NA                      | NA             | ⋯ | AR | ARKANSAS DISTRICT OFFICE      | 03 | CORPORATION | NA | PIF    | 05/31/2005 | NA | 0 |  8 |\n",
       "| 20221231 | 504 | SPECIALTY PRODUCTS          | 40TH ST. &amp; DONALD PARKWAY | FAIRFIELD   | AL | 35208 | Southern Development Council   | 200 Office Park Dr.     | Mountain Brook | ⋯ | AL | ALABAMA DISTRICT OFFICE       | 07 | INDIVIDUAL  | NA | CANCLD | NA         | NA | 0 | 15 |\n",
       "| 20221231 | 504 | ANOKA SPORT SHACK           | 202 MAIN ST.              | ANOKA       | MN | 55303 | Central Minnesota Development  | 1885 Station Parkway    | Andover        | ⋯ | MN | MINNESOTA DISTRICT OFFICE     | 03 | CORPORATION | NA | PIF    | 05/31/2005 | NA | 0 |  8 |\n",
       "\n"
      ],
      "text/plain": [
       "  AsOfDate Program BorrName                    BorrStreet               \n",
       "1 20221231 504     JACK BINGHAM PHOTOGRAPHY    SCRUTON POND ROAD        \n",
       "2 20221231 504     INTERMTN LIFT, INCORPORATED 2120 SOUTH STATE STREET  \n",
       "3 20221231 504     ITALPAST, AMERICA, INC.     2210 HEWITT              \n",
       "4 20221231 504     WAREHOUSE PLUS, INC.        7001 HIGHWAY 271 SOUTH   \n",
       "5 20221231 504     SPECIALTY PRODUCTS          40TH ST. & DONALD PARKWAY\n",
       "6 20221231 504     ANOKA SPORT SHACK           202 MAIN ST.             \n",
       "  BorrCity    BorrState BorrZip CDC_Name                      \n",
       "1 BARRINGTON  NH        03825   Granite State Economic Develop\n",
       "2 SPRINGVILLE UT        84663   Mountain West Small Business F\n",
       "3 EVERETT     WA        98290   Evergreen Business Capital    \n",
       "4 FORT SMITH  AR        72903   NA                            \n",
       "5 FAIRFIELD   AL        35208   Southern Development Council  \n",
       "6 ANOKA       MN        55303   Central Minnesota Development \n",
       "  CDC_Street              CDC_City       ⋯ ProjectState\n",
       "1 One Cate Street         Portsmouth     ⋯ NH          \n",
       "2 2595 East 3300 South    Salt Lake City ⋯ UT          \n",
       "3 13925 Interurban Ave. S Seattle        ⋯ WA          \n",
       "4 NA                      NA             ⋯ AR          \n",
       "5 200 Office Park Dr.     Mountain Brook ⋯ AL          \n",
       "6 1885 Station Parkway    Andover        ⋯ MN          \n",
       "  SBADistrictOffice             CongressionalDistrict BusinessType BusinessAge\n",
       "1 NEW HAMPSHIRE DISTRICT OFFICE 01                    INDIVIDUAL   NA         \n",
       "2 UTAH DISTRICT OFFICE          03                    CORPORATION  NA         \n",
       "3 SEATTLE DISTRICT OFFICE       01                    CORPORATION  NA         \n",
       "4 ARKANSAS DISTRICT OFFICE      03                    CORPORATION  NA         \n",
       "5 ALABAMA DISTRICT OFFICE       07                    INDIVIDUAL   NA         \n",
       "6 MINNESOTA DISTRICT OFFICE     03                    CORPORATION  NA         \n",
       "  LoanStatus PaidInFullDate ChargeOffDate GrossChargeOffAmount JobsSupported\n",
       "1 PIF        05/31/2005     NA            0                     4           \n",
       "2 PIF        01/31/2012     NA            0                    35           \n",
       "3 PIF        05/31/2005     NA            0                    11           \n",
       "4 PIF        05/31/2005     NA            0                     8           \n",
       "5 CANCLD     NA             NA            0                    15           \n",
       "6 PIF        05/31/2005     NA            0                     8           "
      ]
     },
     "metadata": {},
     "output_type": "display_data"
    }
   ],
   "source": [
    "head( df)"
   ]
  },
  {
   "cell_type": "code",
   "execution_count": 4,
   "metadata": {
    "vscode": {
     "languageId": "r"
    }
   },
   "outputs": [
    {
     "data": {
      "text/html": [
       "<table class=\"dataframe\">\n",
       "<caption>A tibble: 6 × 20</caption>\n",
       "<thead>\n",
       "\t<tr><th scope=col>Program</th><th scope=col>BorrCity</th><th scope=col>BorrState</th><th scope=col>CDC_State</th><th scope=col>ThirdPartyLender_State</th><th scope=col>ApprovalFiscalYear</th><th scope=col>DeliveryMethod</th><th scope=col>NaicsCode</th><th scope=col>NaicsDescription</th><th scope=col>FranchiseCode</th><th scope=col>FranchiseName</th><th scope=col>ProjectState</th><th scope=col>BusinessType</th><th scope=col>BusinessAge</th><th scope=col>LoanStatus</th><th scope=col>ThirdPartyDollars</th><th scope=col>GrossApproval</th><th scope=col>TermInMonths</th><th scope=col>GrossChargeOffAmount</th><th scope=col>JobsSupported</th></tr>\n",
       "\t<tr><th scope=col>&lt;dbl&gt;</th><th scope=col>&lt;chr&gt;</th><th scope=col>&lt;chr&gt;</th><th scope=col>&lt;chr&gt;</th><th scope=col>&lt;chr&gt;</th><th scope=col>&lt;dbl&gt;</th><th scope=col>&lt;chr&gt;</th><th scope=col>&lt;dbl&gt;</th><th scope=col>&lt;chr&gt;</th><th scope=col>&lt;chr&gt;</th><th scope=col>&lt;chr&gt;</th><th scope=col>&lt;chr&gt;</th><th scope=col>&lt;chr&gt;</th><th scope=col>&lt;chr&gt;</th><th scope=col>&lt;chr&gt;</th><th scope=col>&lt;dbl&gt;</th><th scope=col>&lt;dbl&gt;</th><th scope=col>&lt;dbl&gt;</th><th scope=col>&lt;dbl&gt;</th><th scope=col>&lt;dbl&gt;</th></tr>\n",
       "</thead>\n",
       "<tbody>\n",
       "\t<tr><td>504</td><td>BARRINGTON </td><td>NH</td><td>NH</td><td>NA</td><td>1991</td><td>504</td><td>541921</td><td>Photography Studios, Portrait                 </td><td>NA</td><td>NA</td><td>NH</td><td>INDIVIDUAL </td><td>NA</td><td>PIF   </td><td>NA</td><td> 65000</td><td>240</td><td>0</td><td> 4</td></tr>\n",
       "\t<tr><td>504</td><td>SPRINGVILLE</td><td>UT</td><td>UT</td><td>NA</td><td>1991</td><td>504</td><td>332312</td><td>Fabricated Structural Metal Manufacturing     </td><td>NA</td><td>NA</td><td>UT</td><td>CORPORATION</td><td>NA</td><td>PIF   </td><td>NA</td><td>322000</td><td>240</td><td>0</td><td>35</td></tr>\n",
       "\t<tr><td>504</td><td>EVERETT    </td><td>WA</td><td>WA</td><td>NA</td><td>1991</td><td>504</td><td>421830</td><td>Industrial Machinery and Equipment Wholesalers</td><td>NA</td><td>NA</td><td>WA</td><td>CORPORATION</td><td>NA</td><td>PIF   </td><td>NA</td><td>208000</td><td>240</td><td>0</td><td>11</td></tr>\n",
       "\t<tr><td>504</td><td>FORT SMITH </td><td>AR</td><td>NA</td><td>NA</td><td>1991</td><td>504</td><td>    NA</td><td>NA                                            </td><td>NA</td><td>NA</td><td>AR</td><td>CORPORATION</td><td>NA</td><td>PIF   </td><td>NA</td><td>217000</td><td>120</td><td>0</td><td> 8</td></tr>\n",
       "\t<tr><td>504</td><td>FAIRFIELD  </td><td>AL</td><td>AL</td><td>NA</td><td>1991</td><td>504</td><td>    NA</td><td>NA                                            </td><td>NA</td><td>NA</td><td>AL</td><td>INDIVIDUAL </td><td>NA</td><td>CANCLD</td><td>NA</td><td>106000</td><td>240</td><td>0</td><td>15</td></tr>\n",
       "\t<tr><td>504</td><td>ANOKA      </td><td>MN</td><td>MN</td><td>NA</td><td>1991</td><td>504</td><td>451110</td><td>Sporting Goods Stores                         </td><td>NA</td><td>NA</td><td>MN</td><td>CORPORATION</td><td>NA</td><td>PIF   </td><td>NA</td><td> 71000</td><td>240</td><td>0</td><td> 8</td></tr>\n",
       "</tbody>\n",
       "</table>\n"
      ],
      "text/latex": [
       "A tibble: 6 × 20\n",
       "\\begin{tabular}{llllllllllllllllllll}\n",
       " Program & BorrCity & BorrState & CDC\\_State & ThirdPartyLender\\_State & ApprovalFiscalYear & DeliveryMethod & NaicsCode & NaicsDescription & FranchiseCode & FranchiseName & ProjectState & BusinessType & BusinessAge & LoanStatus & ThirdPartyDollars & GrossApproval & TermInMonths & GrossChargeOffAmount & JobsSupported\\\\\n",
       " <dbl> & <chr> & <chr> & <chr> & <chr> & <dbl> & <chr> & <dbl> & <chr> & <chr> & <chr> & <chr> & <chr> & <chr> & <chr> & <dbl> & <dbl> & <dbl> & <dbl> & <dbl>\\\\\n",
       "\\hline\n",
       "\t 504 & BARRINGTON  & NH & NH & NA & 1991 & 504 & 541921 & Photography Studios, Portrait                  & NA & NA & NH & INDIVIDUAL  & NA & PIF    & NA &  65000 & 240 & 0 &  4\\\\\n",
       "\t 504 & SPRINGVILLE & UT & UT & NA & 1991 & 504 & 332312 & Fabricated Structural Metal Manufacturing      & NA & NA & UT & CORPORATION & NA & PIF    & NA & 322000 & 240 & 0 & 35\\\\\n",
       "\t 504 & EVERETT     & WA & WA & NA & 1991 & 504 & 421830 & Industrial Machinery and Equipment Wholesalers & NA & NA & WA & CORPORATION & NA & PIF    & NA & 208000 & 240 & 0 & 11\\\\\n",
       "\t 504 & FORT SMITH  & AR & NA & NA & 1991 & 504 &     NA & NA                                             & NA & NA & AR & CORPORATION & NA & PIF    & NA & 217000 & 120 & 0 &  8\\\\\n",
       "\t 504 & FAIRFIELD   & AL & AL & NA & 1991 & 504 &     NA & NA                                             & NA & NA & AL & INDIVIDUAL  & NA & CANCLD & NA & 106000 & 240 & 0 & 15\\\\\n",
       "\t 504 & ANOKA       & MN & MN & NA & 1991 & 504 & 451110 & Sporting Goods Stores                          & NA & NA & MN & CORPORATION & NA & PIF    & NA &  71000 & 240 & 0 &  8\\\\\n",
       "\\end{tabular}\n"
      ],
      "text/markdown": [
       "\n",
       "A tibble: 6 × 20\n",
       "\n",
       "| Program &lt;dbl&gt; | BorrCity &lt;chr&gt; | BorrState &lt;chr&gt; | CDC_State &lt;chr&gt; | ThirdPartyLender_State &lt;chr&gt; | ApprovalFiscalYear &lt;dbl&gt; | DeliveryMethod &lt;chr&gt; | NaicsCode &lt;dbl&gt; | NaicsDescription &lt;chr&gt; | FranchiseCode &lt;chr&gt; | FranchiseName &lt;chr&gt; | ProjectState &lt;chr&gt; | BusinessType &lt;chr&gt; | BusinessAge &lt;chr&gt; | LoanStatus &lt;chr&gt; | ThirdPartyDollars &lt;dbl&gt; | GrossApproval &lt;dbl&gt; | TermInMonths &lt;dbl&gt; | GrossChargeOffAmount &lt;dbl&gt; | JobsSupported &lt;dbl&gt; |\n",
       "|---|---|---|---|---|---|---|---|---|---|---|---|---|---|---|---|---|---|---|---|\n",
       "| 504 | BARRINGTON  | NH | NH | NA | 1991 | 504 | 541921 | Photography Studios, Portrait                  | NA | NA | NH | INDIVIDUAL  | NA | PIF    | NA |  65000 | 240 | 0 |  4 |\n",
       "| 504 | SPRINGVILLE | UT | UT | NA | 1991 | 504 | 332312 | Fabricated Structural Metal Manufacturing      | NA | NA | UT | CORPORATION | NA | PIF    | NA | 322000 | 240 | 0 | 35 |\n",
       "| 504 | EVERETT     | WA | WA | NA | 1991 | 504 | 421830 | Industrial Machinery and Equipment Wholesalers | NA | NA | WA | CORPORATION | NA | PIF    | NA | 208000 | 240 | 0 | 11 |\n",
       "| 504 | FORT SMITH  | AR | NA | NA | 1991 | 504 |     NA | NA                                             | NA | NA | AR | CORPORATION | NA | PIF    | NA | 217000 | 120 | 0 |  8 |\n",
       "| 504 | FAIRFIELD   | AL | AL | NA | 1991 | 504 |     NA | NA                                             | NA | NA | AL | INDIVIDUAL  | NA | CANCLD | NA | 106000 | 240 | 0 | 15 |\n",
       "| 504 | ANOKA       | MN | MN | NA | 1991 | 504 | 451110 | Sporting Goods Stores                          | NA | NA | MN | CORPORATION | NA | PIF    | NA |  71000 | 240 | 0 |  8 |\n",
       "\n"
      ],
      "text/plain": [
       "  Program BorrCity    BorrState CDC_State ThirdPartyLender_State\n",
       "1 504     BARRINGTON  NH        NH        NA                    \n",
       "2 504     SPRINGVILLE UT        UT        NA                    \n",
       "3 504     EVERETT     WA        WA        NA                    \n",
       "4 504     FORT SMITH  AR        NA        NA                    \n",
       "5 504     FAIRFIELD   AL        AL        NA                    \n",
       "6 504     ANOKA       MN        MN        NA                    \n",
       "  ApprovalFiscalYear DeliveryMethod NaicsCode\n",
       "1 1991               504            541921   \n",
       "2 1991               504            332312   \n",
       "3 1991               504            421830   \n",
       "4 1991               504                NA   \n",
       "5 1991               504                NA   \n",
       "6 1991               504            451110   \n",
       "  NaicsDescription                               FranchiseCode FranchiseName\n",
       "1 Photography Studios, Portrait                  NA            NA           \n",
       "2 Fabricated Structural Metal Manufacturing      NA            NA           \n",
       "3 Industrial Machinery and Equipment Wholesalers NA            NA           \n",
       "4 NA                                             NA            NA           \n",
       "5 NA                                             NA            NA           \n",
       "6 Sporting Goods Stores                          NA            NA           \n",
       "  ProjectState BusinessType BusinessAge LoanStatus ThirdPartyDollars\n",
       "1 NH           INDIVIDUAL   NA          PIF        NA               \n",
       "2 UT           CORPORATION  NA          PIF        NA               \n",
       "3 WA           CORPORATION  NA          PIF        NA               \n",
       "4 AR           CORPORATION  NA          PIF        NA               \n",
       "5 AL           INDIVIDUAL   NA          CANCLD     NA               \n",
       "6 MN           CORPORATION  NA          PIF        NA               \n",
       "  GrossApproval TermInMonths GrossChargeOffAmount JobsSupported\n",
       "1  65000        240          0                     4           \n",
       "2 322000        240          0                    35           \n",
       "3 208000        240          0                    11           \n",
       "4 217000        120          0                     8           \n",
       "5 106000        240          0                    15           \n",
       "6  71000        240          0                     8           "
      ]
     },
     "metadata": {},
     "output_type": "display_data"
    }
   ],
   "source": [
    "df <- df |>\n",
    "    select(\n",
    "    'Program', 'BorrCity', 'BorrState', 'CDC_State', 'ThirdPartyLender_State',  \n",
    "    'ApprovalFiscalYear', 'DeliveryMethod', 'NaicsCode', 'NaicsDescription', \n",
    "    'FranchiseCode', 'FranchiseName', 'ProjectState', 'BusinessType', 'BusinessAge', 'LoanStatus',\n",
    "    'ThirdPartyDollars', 'GrossApproval', 'TermInMonths', 'GrossChargeOffAmount', 'JobsSupported'\n",
    ")\n",
    "\n",
    "head( df)"
   ]
  },
  {
   "cell_type": "code",
   "execution_count": 5,
   "metadata": {
    "vscode": {
     "languageId": "r"
    }
   },
   "outputs": [
    {
     "name": "stdout",
     "output_type": "stream",
     "text": [
      "[1] \"BorrCity 19132\"\n",
      "[1] \"BorrState 54\"\n",
      "[1] \"CDC_State 51\"\n",
      "[1] \"ThirdPartyLender_State 60\"\n",
      "[1] \"DeliveryMethod 6\"\n",
      "[1] \"NaicsDescription 1237\"\n",
      "[1] \"FranchiseCode 2440\"\n",
      "[1] \"FranchiseName 2254\"\n",
      "[1] \"ProjectState 55\"\n",
      "[1] \"BusinessType 3\"\n",
      "[1] \"BusinessAge 10\"\n",
      "[1] \"LoanStatus 5\"\n"
     ]
    }
   ],
   "source": [
    "for (i in names( df)){\n",
    "    if ( class( df[[ i]]) == 'character'){\n",
    "        print( paste( i, length( levels( as.factor( df[[ i]])))))\n",
    "    }\n",
    "}"
   ]
  },
  {
   "cell_type": "code",
   "execution_count": 6,
   "metadata": {
    "vscode": {
     "languageId": "r"
    }
   },
   "outputs": [
    {
     "name": "stdout",
     "output_type": "stream",
     "text": [
      "[1] \"Program 1\"\n",
      "[1] \"ApprovalFiscalYear 33\"\n"
     ]
    }
   ],
   "source": [
    "for ( i in c( 'Program', 'ApprovalFiscalYear')){ # Categorical variables that are not parsed as characters.\n",
    "    print( paste( i, length( levels( as.factor( df[[ i]])))))\n",
    "}"
   ]
  },
  {
   "attachments": {},
   "cell_type": "markdown",
   "metadata": {},
   "source": [
    "The feature `Program` is completely useless as it only has one class. This variable will be removed from the data frame.\n",
    "\n",
    "It is quite weird that number of `NaicsDescrption` and `NaicsCode` do not match. Also the case with `FranchiseName` and `FranchiseCode`."
   ]
  },
  {
   "cell_type": "code",
   "execution_count": 7,
   "metadata": {
    "vscode": {
     "languageId": "r"
    }
   },
   "outputs": [],
   "source": [
    "df <- df |>\n",
    "    select( -Program)"
   ]
  },
  {
   "cell_type": "code",
   "execution_count": 8,
   "metadata": {
    "vscode": {
     "languageId": "r"
    }
   },
   "outputs": [],
   "source": [
    "df <- df |>\n",
    "    mutate( ApprovalFiscalYear = as.factor( ApprovalFiscalYear)) |>\n",
    "    mutate_if( is.character, as.factor)"
   ]
  },
  {
   "cell_type": "code",
   "execution_count": 9,
   "metadata": {
    "vscode": {
     "languageId": "r"
    }
   },
   "outputs": [
    {
     "data": {
      "text/html": [
       "<table class=\"dataframe\">\n",
       "<caption>A tibble: 6 × 2</caption>\n",
       "<thead>\n",
       "\t<tr><th scope=col>LoanStatus</th><th scope=col>Count</th></tr>\n",
       "\t<tr><th scope=col>&lt;fct&gt;</th><th scope=col>&lt;int&gt;</th></tr>\n",
       "</thead>\n",
       "<tbody>\n",
       "\t<tr><td>PIF       </td><td>100797</td></tr>\n",
       "\t<tr><td>EXEMPT    </td><td> 57161</td></tr>\n",
       "\t<tr><td>CANCLD    </td><td> 28722</td></tr>\n",
       "\t<tr><td>CHGOFF    </td><td> 11937</td></tr>\n",
       "\t<tr><td>NOT FUNDED</td><td>  8707</td></tr>\n",
       "\t<tr><td>NA        </td><td>   361</td></tr>\n",
       "</tbody>\n",
       "</table>\n"
      ],
      "text/latex": [
       "A tibble: 6 × 2\n",
       "\\begin{tabular}{ll}\n",
       " LoanStatus & Count\\\\\n",
       " <fct> & <int>\\\\\n",
       "\\hline\n",
       "\t PIF        & 100797\\\\\n",
       "\t EXEMPT     &  57161\\\\\n",
       "\t CANCLD     &  28722\\\\\n",
       "\t CHGOFF     &  11937\\\\\n",
       "\t NOT FUNDED &   8707\\\\\n",
       "\t NA         &    361\\\\\n",
       "\\end{tabular}\n"
      ],
      "text/markdown": [
       "\n",
       "A tibble: 6 × 2\n",
       "\n",
       "| LoanStatus &lt;fct&gt; | Count &lt;int&gt; |\n",
       "|---|---|\n",
       "| PIF        | 100797 |\n",
       "| EXEMPT     |  57161 |\n",
       "| CANCLD     |  28722 |\n",
       "| CHGOFF     |  11937 |\n",
       "| NOT FUNDED |   8707 |\n",
       "| NA         |    361 |\n",
       "\n"
      ],
      "text/plain": [
       "  LoanStatus Count \n",
       "1 PIF        100797\n",
       "2 EXEMPT      57161\n",
       "3 CANCLD      28722\n",
       "4 CHGOFF      11937\n",
       "5 NOT FUNDED   8707\n",
       "6 NA            361"
      ]
     },
     "metadata": {},
     "output_type": "display_data"
    }
   ],
   "source": [
    "df |>\n",
    "    group_by( LoanStatus) |>\n",
    "    summarise( Count = n()) |>\n",
    "    arrange( desc( Count))"
   ]
  },
  {
   "attachments": {},
   "cell_type": "markdown",
   "metadata": {},
   "source": [
    "While our major goal is to predict risks of specific loans, we are more interested in loans that were either Paid in Full (`PIF`) or Charge Off (`CHGOFF`). Loans that were not approved (`NOT FUNDED`) have not risk components. Loans that are excepted (`EXEMPT`) or cancelled (`CANCLD`) are eseentially censored data which we do not know whether the loans would be paid if they had not been exempted/cancelled. Thus, we only include observations that are either Paid in Full (`PIF`) or Charge Off (`CHGOFF`)."
   ]
  },
  {
   "cell_type": "code",
   "execution_count": 10,
   "metadata": {
    "vscode": {
     "languageId": "r"
    }
   },
   "outputs": [],
   "source": [
    "df <- df |>\n",
    "    filter( (LoanStatus=='PIF') | (LoanStatus=='CHGOFF'))"
   ]
  },
  {
   "attachments": {},
   "cell_type": "markdown",
   "metadata": {},
   "source": [
    "To maintain scientisfic robustness and prevent data leakge, only the training data set after splitting is visually inspected here. Data splitting is performed with `src/01-data-splitting.py`."
   ]
  },
  {
   "cell_type": "code",
   "execution_count": 11,
   "metadata": {
    "vscode": {
     "languageId": "r"
    }
   },
   "outputs": [
    {
     "name": "stderr",
     "output_type": "stream",
     "text": [
      "\u001b[1m\u001b[22mNew names:\n",
      "\u001b[36m•\u001b[39m `` -> `...1`\n",
      "\u001b[1mRows: \u001b[22m\u001b[34m56367\u001b[39m \u001b[1mColumns: \u001b[22m\u001b[34m20\u001b[39m\n",
      "\u001b[36m──\u001b[39m \u001b[1mColumn specification\u001b[22m \u001b[36m────────────────────────────────────────────────────────\u001b[39m\n",
      "\u001b[1mDelimiter:\u001b[22m \",\"\n",
      "\u001b[31mchr\u001b[39m (12): BorrCity, BorrState, CDC_State, ThirdPartyLender_State, DeliveryMe...\n",
      "\u001b[32mdbl\u001b[39m  (8): ...1, ApprovalFiscalYear, NaicsCode, ThirdPartyDollars, GrossAppro...\n",
      "\n",
      "\u001b[36mℹ\u001b[39m Use `spec()` to retrieve the full column specification for this data.\n",
      "\u001b[36mℹ\u001b[39m Specify the column types or set `show_col_types = FALSE` to quiet this message.\n"
     ]
    }
   ],
   "source": [
    "df <- read_csv( '../data/train.csv')"
   ]
  },
  {
   "attachments": {},
   "cell_type": "markdown",
   "metadata": {},
   "source": [
    "## Individual variables"
   ]
  },
  {
   "attachments": {},
   "cell_type": "markdown",
   "metadata": {},
   "source": [
    "This section examines the distribution of each indiviudal variables and their associations with the status of the loans."
   ]
  },
  {
   "cell_type": "code",
   "execution_count": 12,
   "metadata": {
    "vscode": {
     "languageId": "r"
    }
   },
   "outputs": [],
   "source": [
    "count_plot <- function( column, data, title, lab, cat_on_x = TRUE){\n",
    "    data |>\n",
    "        ggplot() + {\n",
    "        if (cat_on_x==TRUE)\n",
    "            aes( x = {{column}})\n",
    "        else \n",
    "            aes( y = {{column}})\n",
    "        } +\n",
    "        geom_bar() +\n",
    "        labs( title = title, x = lab, y = 'Count')\n",
    "}"
   ]
  },
  {
   "attachments": {},
   "cell_type": "markdown",
   "metadata": {},
   "source": [
    "### `LoanStatus`"
   ]
  },
  {
   "cell_type": "code",
   "execution_count": 13,
   "metadata": {
    "vscode": {
     "languageId": "r"
    }
   },
   "outputs": [
    {
     "data": {
      "image/png": "[encoded data removed]",
      "text/plain": [
       "plot without title"
      ]
     },
     "metadata": {
      "image/png": {
       "height": 180,
       "width": 420
      }
     },
     "output_type": "display_data"
    }
   ],
   "source": [
    "options(repr.plot.width=7, repr.plot.height=3)\n",
    "count_plot( LoanStatus, df, title = 'Distribution of Loan Status', lab = 'Loan Status')"
   ]
  },
  {
   "attachments": {},
   "cell_type": "markdown",
   "metadata": {},
   "source": [
    "There is serious class imbalance between 2 classes of loan status. It should be handled with cautious when building and evaluating the relevant machine learning models."
   ]
  },
  {
   "attachments": {},
   "cell_type": "markdown",
   "metadata": {},
   "source": [
    "### `BorrState`"
   ]
  },
  {
   "cell_type": "code",
   "execution_count": 14,
   "metadata": {
    "vscode": {
     "languageId": "r"
    }
   },
   "outputs": [],
   "source": [
    "# Adding new columns to facilitate data wrangling\n",
    "df <- df |>\n",
    "    mutate( pif = case_when( LoanStatus == 'PIF' ~ 1,\n",
    "                            TRUE ~ 0),\n",
    "            chgoff = case_when( LoanStatus == 'CHGOFF' ~ 1,\n",
    "                                TRUE ~ 0)\n",
    "    )"
   ]
  },
  {
   "cell_type": "code",
   "execution_count": 32,
   "metadata": {
    "vscode": {
     "languageId": "r"
    }
   },
   "outputs": [],
   "source": [
    "library(usmap)\n",
    "\n",
    "state_plot <- function( state_column, data, title = '% of Charge-Off Loans'){\n",
    "    state_df <- data |>\n",
    "        mutate( state = {{ state_column}}) |>\n",
    "        group_by( state) |>\n",
    "        summarise( chgoff_percentage = round( sum( chgoff) / ( sum( chgoff) + sum( pif)) * 100, 2))\n",
    "    \n",
    "    plot_usmap( data = state_df, values = 'chgoff_percentage', color = 'gray') +\n",
    "        scale_fill_continuous(\n",
    "            low = \"White\", high = \"Red\", name = \"% of Charged-off Loans\"\n",
    "        ) +\n",
    "        theme(legend.position = \"right\") +\n",
    "        labs( title = title)\n",
    "}\n",
    "\n",
    "state_count_plot <- function( state_column, data, title = 'Number of Occurence in each State'){\n",
    "    state_df <- data |>\n",
    "        mutate( state = {{ state_column}}) |>\n",
    "        group_by( state) |>\n",
    "        summarise( n = n())\n",
    "    \n",
    "    plot_usmap( data = state_df, values = 'n', color = 'gray') +\n",
    "        scale_fill_continuous(\n",
    "            low = \"white\", high = \"blue\", name = \"Count\"\n",
    "        ) +\n",
    "        theme(legend.position = \"right\") +\n",
    "        labs( title = title)\n",
    "}"
   ]
  },
  {
   "cell_type": "code",
   "execution_count": 33,
   "metadata": {
    "vscode": {
     "languageId": "r"
    }
   },
   "outputs": [
    {
     "data": {
      "image/png": "[encoded data removed]",
      "text/plain": [
       "plot without title"
      ]
     },
     "metadata": {
      "image/png": {
       "height": 180,
       "width": 420
      }
     },
     "output_type": "display_data"
    }
   ],
   "source": [
    "state_count_plot( BorrState, df, title = 'Number of Borrowers in each States')"
   ]
  },
  {
   "cell_type": "code",
   "execution_count": 34,
   "metadata": {
    "vscode": {
     "languageId": "r"
    }
   },
   "outputs": [
    {
     "data": {
      "image/png": "[encoded data removed]",
      "text/plain": [
       "plot without title"
      ]
     },
     "metadata": {
      "image/png": {
       "height": 180,
       "width": 420
      }
     },
     "output_type": "display_data"
    }
   ],
   "source": [
    "state_plot( BorrState, df, title = '% of Charge-Off Loans based on States of Borrowers')"
   ]
  },
  {
   "attachments": {},
   "cell_type": "markdown",
   "metadata": {},
   "source": [
    "It is visually significant that loans in some states are more probable to be charged off."
   ]
  },
  {
   "attachments": {},
   "cell_type": "markdown",
   "metadata": {},
   "source": [
    "### `CDC_State`"
   ]
  },
  {
   "cell_type": "code",
   "execution_count": 35,
   "metadata": {
    "vscode": {
     "languageId": "r"
    }
   },
   "outputs": [
    {
     "data": {
      "image/png": "[encoded data removed]",
      "text/plain": [
       "plot without title"
      ]
     },
     "metadata": {
      "image/png": {
       "height": 180,
       "width": 420
      }
     },
     "output_type": "display_data"
    }
   ],
   "source": [
    "state_count_plot( CDC_State, df, title = 'Number of Loans by States of CDC')"
   ]
  },
  {
   "cell_type": "code",
   "execution_count": 36,
   "metadata": {
    "vscode": {
     "languageId": "r"
    }
   },
   "outputs": [
    {
     "data": {
      "image/png": "[encoded data removed]",
      "text/plain": [
       "plot without title"
      ]
     },
     "metadata": {
      "image/png": {
       "height": 180,
       "width": 420
      }
     },
     "output_type": "display_data"
    }
   ],
   "source": [
    "state_plot( CDC_State, df, title = '% of Charge-Off Loans based on States of CDC')"
   ]
  },
  {
   "attachments": {},
   "cell_type": "markdown",
   "metadata": {},
   "source": [
    "Similar pattern is observed with CDCs' states. It is due to fact that usually small business receive loans from organizations from their own states. This varaible is redundant in machine learning."
   ]
  },
  {
   "attachments": {},
   "cell_type": "markdown",
   "metadata": {},
   "source": [
    "### `ThirdPartyLender_State`"
   ]
  },
  {
   "cell_type": "code",
   "execution_count": 37,
   "metadata": {
    "vscode": {
     "languageId": "r"
    }
   },
   "outputs": [
    {
     "data": {
      "image/png": "[encoded data removed]",
      "text/plain": [
       "plot without title"
      ]
     },
     "metadata": {
      "image/png": {
       "height": 180,
       "width": 420
      }
     },
     "output_type": "display_data"
    }
   ],
   "source": [
    "state_count_plot( ThirdPartyLender_State, df, title = 'Number of Loans by States of the Third Party Lenders')"
   ]
  },
  {
   "cell_type": "code",
   "execution_count": 38,
   "metadata": {
    "vscode": {
     "languageId": "r"
    }
   },
   "outputs": [
    {
     "data": {
      "image/png": "[encoded data removed]",
      "text/plain": [
       "plot without title"
      ]
     },
     "metadata": {
      "image/png": {
       "height": 180,
       "width": 420
      }
     },
     "output_type": "display_data"
    }
   ],
   "source": [
    "state_plot( ThirdPartyLender_State, df, title = '% of Charge-Off Loans based on States of the Third Party Lenders')"
   ]
  },
  {
   "attachments": {},
   "cell_type": "markdown",
   "metadata": {},
   "source": [
    "States of the third party lenders are potentially associated with charged-off rate with the visually observed difference in terms of the percentage in each state. "
   ]
  },
  {
   "attachments": {},
   "cell_type": "markdown",
   "metadata": {},
   "source": [
    "### `ApprovalFiscalYear`"
   ]
  },
  {
   "cell_type": "code",
   "execution_count": 21,
   "metadata": {
    "vscode": {
     "languageId": "r"
    }
   },
   "outputs": [
    {
     "data": {
      "image/png": "[encoded data removed]",
      "text/plain": [
       "plot without title"
      ]
     },
     "metadata": {
      "image/png": {
       "height": 180,
       "width": 420
      }
     },
     "output_type": "display_data"
    }
   ],
   "source": [
    "count_plot( ApprovalFiscalYear, data = df, title = 'Number of Loans Approved in each Fiscal Year', lab = 'Fiscal Year')"
   ]
  },
  {
   "cell_type": "code",
   "execution_count": 19,
   "metadata": {
    "vscode": {
     "languageId": "r"
    }
   },
   "outputs": [
    {
     "data": {
      "image/png": "[encoded data removed]",
      "text/plain": [
       "plot without title"
      ]
     },
     "metadata": {
      "image/png": {
       "height": 180,
       "width": 420
      }
     },
     "output_type": "display_data"
    }
   ],
   "source": [
    "df |>\n",
    "    group_by( ApprovalFiscalYear) |>\n",
    "    summarise( chgoff_percentage = round( sum( chgoff) / ( sum( chgoff) + sum( pif)) * 100, 2)) |>\n",
    "    ggplot() +\n",
    "    aes( x = ApprovalFiscalYear, y = chgoff_percentage) +\n",
    "    geom_bar( stat = 'identity') +\n",
    "    labs( title = '% of Charged-Off Loans based on Year of Approval', x = 'Year of Approval', y = '% of Charged-Off Loans')\n",
    "    "
   ]
  },
  {
   "attachments": {},
   "cell_type": "markdown",
   "metadata": {},
   "source": [
    "It is observed that more loans were charged off in the year between 2005 to 2009. Still, year of approval will not be a useful feature for us to study the risk of future small business loans."
   ]
  },
  {
   "attachments": {},
   "cell_type": "markdown",
   "metadata": {},
   "source": [
    "### `DeliveryMethod`"
   ]
  },
  {
   "cell_type": "code",
   "execution_count": 41,
   "metadata": {
    "vscode": {
     "languageId": "r"
    }
   },
   "outputs": [
    {
     "data": {
      "image/png": "[encoded data removed]",
      "text/plain": [
       "plot without title"
      ]
     },
     "metadata": {
      "image/png": {
       "height": 180,
       "width": 420
      }
     },
     "output_type": "display_data"
    }
   ],
   "source": [
    "count_plot( DeliveryMethod, df, title = 'Distribution of Delivery Methods', lab = 'Delivery Methods')"
   ]
  },
  {
   "attachments": {},
   "cell_type": "markdown",
   "metadata": {},
   "source": [
    "Delviery methods are mostly 504, ALP, and PCLP. The association between other methods (504 Refinace, 504REFI, and Direct Loans) and chance of a loan being charged off may not be very robust as the sample sizes are relatively smaller."
   ]
  },
  {
   "cell_type": "code",
   "execution_count": 20,
   "metadata": {
    "vscode": {
     "languageId": "r"
    }
   },
   "outputs": [
    {
     "data": {
      "image/png": "[encoded data removed]",
      "text/plain": [
       "plot without title"
      ]
     },
     "metadata": {
      "image/png": {
       "height": 180,
       "width": 420
      }
     },
     "output_type": "display_data"
    }
   ],
   "source": [
    "df |>\n",
    "    group_by( DeliveryMethod) |>\n",
    "    summarise( chgoff_percentage = round( sum( chgoff) / ( sum( chgoff) + sum( pif)) * 100, 2)) |>\n",
    "    ggplot() +\n",
    "    aes( x = reorder( DeliveryMethod, chgoff_percentage), y = chgoff_percentage) +\n",
    "    geom_bar( stat = 'identity') +\n",
    "    labs( title = '% of Charged-Off Loans based on Delivery Method of the Loans', x = 'Delivery Method', y = '% of Charged-Off Loans')\n",
    "    "
   ]
  },
  {
   "attachments": {},
   "cell_type": "markdown",
   "metadata": {},
   "source": [
    "It is visually obvious that some delivery methods are associated with lower charged-off rate. This may useful in predict loan risks."
   ]
  },
  {
   "attachments": {},
   "cell_type": "markdown",
   "metadata": {},
   "source": [
    "### `NaicsCode`"
   ]
  },
  {
   "cell_type": "code",
   "execution_count": 21,
   "metadata": {
    "vscode": {
     "languageId": "r"
    }
   },
   "outputs": [
    {
     "data": {
      "text/html": [
       "1131"
      ],
      "text/latex": [
       "1131"
      ],
      "text/markdown": [
       "1131"
      ],
      "text/plain": [
       "[1] 1131"
      ]
     },
     "metadata": {},
     "output_type": "display_data"
    }
   ],
   "source": [
    "length( unique( df$NaicsCode))"
   ]
  },
  {
   "attachments": {},
   "cell_type": "markdown",
   "metadata": {},
   "source": [
    "While there are too many codes in the North American Industry Classification System, we can extract the sectors by using the first 2 digits of  each NAICS code."
   ]
  },
  {
   "cell_type": "code",
   "execution_count": 44,
   "metadata": {
    "vscode": {
     "languageId": "r"
    }
   },
   "outputs": [
    {
     "data": {
      "image/png": "[encoded data removed]",
      "text/plain": [
       "plot without title"
      ]
     },
     "metadata": {
      "image/png": {
       "height": 180,
       "width": 420
      }
     },
     "output_type": "display_data"
    }
   ],
   "source": [
    "df <- df |>\n",
    "    mutate( NaicsSector = substr( as.character( NaicsCode), 1, 2))\n",
    "\n",
    "count_plot( NaicsSector, df, title = 'Distribution of NAICS Sectors', lab = 'NAICS Sector Code')"
   ]
  },
  {
   "attachments": {},
   "cell_type": "markdown",
   "metadata": {},
   "source": [
    "Many observations are without NAICS code provided. While the number of occurence of `NA` is large, it is more appropriate to use `NA`s as a separate class."
   ]
  },
  {
   "cell_type": "code",
   "execution_count": 45,
   "metadata": {
    "vscode": {
     "languageId": "r"
    }
   },
   "outputs": [
    {
     "data": {
      "image/png": "[encoded data removed]",
      "text/plain": [
       "plot without title"
      ]
     },
     "metadata": {
      "image/png": {
       "height": 180,
       "width": 420
      }
     },
     "output_type": "display_data"
    }
   ],
   "source": [
    "df |>\n",
    "    group_by( NaicsSector) |>\n",
    "    summarise( chgoff_percentage = round( sum( chgoff) / ( sum( chgoff) + sum( pif)) * 100, 2)) |>\n",
    "    arrange( NaicsSector) |>\n",
    "    ggplot() +\n",
    "    aes( x = reorder( NaicsSector, chgoff_percentage), y = chgoff_percentage) +\n",
    "    geom_bar( stat = 'identity') +\n",
    "    labs( title = '% of Charged-Off Loans based on Sectors', x = 'NAICS Sector Code', y = '% of Charged-Off Loans')"
   ]
  },
  {
   "attachments": {},
   "cell_type": "markdown",
   "metadata": {},
   "source": [
    "With NAICS sectors, we no longer need `NaicsDescription` as they are too sparsed to be analyzed."
   ]
  },
  {
   "attachments": {},
   "cell_type": "markdown",
   "metadata": {},
   "source": [
    "### `FranchiseCode` and `FranchiseName`"
   ]
  },
  {
   "cell_type": "code",
   "execution_count": 46,
   "metadata": {
    "vscode": {
     "languageId": "r"
    }
   },
   "outputs": [
    {
     "data": {
      "text/html": [
       "56367"
      ],
      "text/latex": [
       "56367"
      ],
      "text/markdown": [
       "56367"
      ],
      "text/plain": [
       "[1] 56367"
      ]
     },
     "metadata": {},
     "output_type": "display_data"
    }
   ],
   "source": [
    "nrow( df)"
   ]
  },
  {
   "cell_type": "code",
   "execution_count": 47,
   "metadata": {
    "vscode": {
     "languageId": "r"
    }
   },
   "outputs": [
    {
     "data": {
      "text/html": [
       "<table class=\"dataframe\">\n",
       "<caption>A tibble: 3 × 2</caption>\n",
       "<thead>\n",
       "\t<tr><th scope=col>FranchiseCode</th><th scope=col>percentage</th></tr>\n",
       "\t<tr><th scope=col>&lt;chr&gt;</th><th scope=col>&lt;dbl&gt;</th></tr>\n",
       "</thead>\n",
       "<tbody>\n",
       "\t<tr><td>NA   </td><td>91.2555218</td></tr>\n",
       "\t<tr><td>80979</td><td> 0.3175617</td></tr>\n",
       "\t<tr><td>79140</td><td> 0.2536945</td></tr>\n",
       "</tbody>\n",
       "</table>\n"
      ],
      "text/latex": [
       "A tibble: 3 × 2\n",
       "\\begin{tabular}{ll}\n",
       " FranchiseCode & percentage\\\\\n",
       " <chr> & <dbl>\\\\\n",
       "\\hline\n",
       "\t NA    & 91.2555218\\\\\n",
       "\t 80979 &  0.3175617\\\\\n",
       "\t 79140 &  0.2536945\\\\\n",
       "\\end{tabular}\n"
      ],
      "text/markdown": [
       "\n",
       "A tibble: 3 × 2\n",
       "\n",
       "| FranchiseCode &lt;chr&gt; | percentage &lt;dbl&gt; |\n",
       "|---|---|\n",
       "| NA    | 91.2555218 |\n",
       "| 80979 |  0.3175617 |\n",
       "| 79140 |  0.2536945 |\n",
       "\n"
      ],
      "text/plain": [
       "  FranchiseCode percentage\n",
       "1 NA            91.2555218\n",
       "2 80979          0.3175617\n",
       "3 79140          0.2536945"
      ]
     },
     "metadata": {},
     "output_type": "display_data"
    }
   ],
   "source": [
    "df |>\n",
    "    group_by( FranchiseCode) |>\n",
    "    summarise( percentage = n() / nrow( df) * 100) |>\n",
    "    arrange( desc( percentage)) |>\n",
    "    head( 3)"
   ]
  },
  {
   "cell_type": "code",
   "execution_count": 48,
   "metadata": {
    "vscode": {
     "languageId": "r"
    }
   },
   "outputs": [
    {
     "data": {
      "text/html": [
       "<table class=\"dataframe\">\n",
       "<caption>A tibble: 3 × 2</caption>\n",
       "<thead>\n",
       "\t<tr><th scope=col>FranchiseName</th><th scope=col>percentage</th></tr>\n",
       "\t<tr><th scope=col>&lt;chr&gt;</th><th scope=col>&lt;dbl&gt;</th></tr>\n",
       "</thead>\n",
       "<tbody>\n",
       "\t<tr><td>NA                 </td><td>91.2590700</td></tr>\n",
       "\t<tr><td>SUPER 8 MOTEL      </td><td> 0.3743325</td></tr>\n",
       "\t<tr><td>HOLIDAY INN EXPRESS</td><td> 0.3211099</td></tr>\n",
       "</tbody>\n",
       "</table>\n"
      ],
      "text/latex": [
       "A tibble: 3 × 2\n",
       "\\begin{tabular}{ll}\n",
       " FranchiseName & percentage\\\\\n",
       " <chr> & <dbl>\\\\\n",
       "\\hline\n",
       "\t NA                  & 91.2590700\\\\\n",
       "\t SUPER 8 MOTEL       &  0.3743325\\\\\n",
       "\t HOLIDAY INN EXPRESS &  0.3211099\\\\\n",
       "\\end{tabular}\n"
      ],
      "text/markdown": [
       "\n",
       "A tibble: 3 × 2\n",
       "\n",
       "| FranchiseName &lt;chr&gt; | percentage &lt;dbl&gt; |\n",
       "|---|---|\n",
       "| NA                  | 91.2590700 |\n",
       "| SUPER 8 MOTEL       |  0.3743325 |\n",
       "| HOLIDAY INN EXPRESS |  0.3211099 |\n",
       "\n"
      ],
      "text/plain": [
       "  FranchiseName       percentage\n",
       "1 NA                  91.2590700\n",
       "2 SUPER 8 MOTEL        0.3743325\n",
       "3 HOLIDAY INN EXPRESS  0.3211099"
      ]
     },
     "metadata": {},
     "output_type": "display_data"
    }
   ],
   "source": [
    "df |>\n",
    "    group_by( FranchiseName) |>\n",
    "    summarise( percentage = n() / nrow( df) * 100) |>\n",
    "    arrange( desc( percentage)) |>\n",
    "    head( 3)"
   ]
  },
  {
   "attachments": {},
   "cell_type": "markdown",
   "metadata": {},
   "source": [
    "While most of the of the observations are not associated with any franchise, it may be infeasible to use franchise code or name to prediction loan risk."
   ]
  },
  {
   "cell_type": "code",
   "execution_count": 49,
   "metadata": {
    "vscode": {
     "languageId": "r"
    }
   },
   "outputs": [
    {
     "data": {
      "image/png": "[encoded data removed]",
      "text/plain": [
       "plot without title"
      ]
     },
     "metadata": {
      "image/png": {
       "height": 180,
       "width": 420
      }
     },
     "output_type": "display_data"
    }
   ],
   "source": [
    "df |>\n",
    "    mutate( franchise = case_when( is.na( FranchiseName) ~ 'No',\n",
    "                                    TRUE ~ 'Yes')) |>\n",
    "    group_by( franchise) |>\n",
    "    summarise( chgoff_percentage = round( sum( chgoff) / ( sum( chgoff) + sum( pif)) * 100, 2)) |>\n",
    "    ggplot() +\n",
    "    aes( x = reorder( franchise, chgoff_percentage), y = chgoff_percentage) +\n",
    "    geom_bar( stat = 'identity') +\n",
    "    labs( title = '% of Charged-Off Loans based on if the Loans are associated with Franchises',\n",
    "            x = 'With Franchise or Not', y = '% of Charged-Off Loans')"
   ]
  },
  {
   "attachments": {},
   "cell_type": "markdown",
   "metadata": {},
   "source": [
    "It is possible to that loans associated with existing franchises are with higher chance of being charged off. It can be a useful feature in predicting loan risk."
   ]
  },
  {
   "attachments": {},
   "cell_type": "markdown",
   "metadata": {},
   "source": [
    "### `ProjectState`"
   ]
  },
  {
   "cell_type": "code",
   "execution_count": 50,
   "metadata": {
    "vscode": {
     "languageId": "r"
    }
   },
   "outputs": [
    {
     "data": {
      "image/png": "[encoded data removed]",
      "text/plain": [
       "plot without title"
      ]
     },
     "metadata": {
      "image/png": {
       "height": 180,
       "width": 420
      }
     },
     "output_type": "display_data"
    }
   ],
   "source": [
    "state_count_plot( ProjectState, data = df, title = 'Number of Loans based on States of the Projects')"
   ]
  },
  {
   "cell_type": "code",
   "execution_count": 27,
   "metadata": {
    "vscode": {
     "languageId": "r"
    }
   },
   "outputs": [
    {
     "data": {
      "image/png": "[encoded data removed]",
      "text/plain": [
       "plot without title"
      ]
     },
     "metadata": {
      "image/png": {
       "height": 180,
       "width": 420
      }
     },
     "output_type": "display_data"
    }
   ],
   "source": [
    "state_plot( ProjectState, data = df, title = '% of Charged-Off Loans based on States of the Projects')"
   ]
  },
  {
   "cell_type": "code",
   "execution_count": 28,
   "metadata": {
    "vscode": {
     "languageId": "r"
    }
   },
   "outputs": [
    {
     "data": {
      "image/png": "[encoded data removed]",
      "text/plain": [
       "plot without title"
      ]
     },
     "metadata": {
      "image/png": {
       "height": 180,
       "width": 420
      }
     },
     "output_type": "display_data"
    }
   ],
   "source": [
    "state_plot( BorrState, data = df, title = '% of Charged-Off Loans based on States of the Projects')"
   ]
  },
  {
   "attachments": {},
   "cell_type": "markdown",
   "metadata": {},
   "source": [
    "While borrowers usually use the loans in projects in their own states, the states of the projects will be a redundant information in predicting loan risks."
   ]
  },
  {
   "attachments": {},
   "cell_type": "markdown",
   "metadata": {},
   "source": [
    "### `BusinessType`"
   ]
  },
  {
   "cell_type": "code",
   "execution_count": 51,
   "metadata": {
    "vscode": {
     "languageId": "r"
    }
   },
   "outputs": [
    {
     "data": {
      "image/png": "[encoded data removed]",
      "text/plain": [
       "plot without title"
      ]
     },
     "metadata": {
      "image/png": {
       "height": 180,
       "width": 420
      }
     },
     "output_type": "display_data"
    }
   ],
   "source": [
    "count_plot( BusinessType, df, title = 'Distribution of Business Types', lab = 'Business Types')"
   ]
  },
  {
   "cell_type": "code",
   "execution_count": 29,
   "metadata": {
    "vscode": {
     "languageId": "r"
    }
   },
   "outputs": [
    {
     "data": {
      "image/png": "[encoded data removed]",
      "text/plain": [
       "plot without title"
      ]
     },
     "metadata": {
      "image/png": {
       "height": 180,
       "width": 420
      }
     },
     "output_type": "display_data"
    }
   ],
   "source": [
    "df |>\n",
    "    group_by( BusinessType) |>\n",
    "    summarise( chgoff_percentage = round( sum( chgoff) / ( sum( chgoff) + sum( pif)) * 100, 2)) |>\n",
    "    ggplot() +\n",
    "    aes( x = reorder( BusinessType, chgoff_percentage), y = chgoff_percentage) +\n",
    "    geom_bar( stat = 'identity') +\n",
    "    labs( title = '% of Charged-Off Loans based on Business Types',\n",
    "            x = 'Business Type', y = '% of Charged-Off Loans')"
   ]
  },
  {
   "attachments": {},
   "cell_type": "markdown",
   "metadata": {},
   "source": [
    "Business not providing their business types seem to be more susceptible to be charged-off. Loans for business in partnership seem to have lower charged-off rate. By further inspecting the samples size of each business type, it should be noted that there is only a small amount of business having no business type provided. Still, business type is potentially useful in predicting loan risks."
   ]
  },
  {
   "attachments": {},
   "cell_type": "markdown",
   "metadata": {},
   "source": [
    "### `BusinessAge`"
   ]
  },
  {
   "cell_type": "code",
   "execution_count": 52,
   "metadata": {
    "vscode": {
     "languageId": "r"
    }
   },
   "outputs": [
    {
     "data": {
      "image/png": "[encoded data removed]",
      "text/plain": [
       "plot without title"
      ]
     },
     "metadata": {
      "image/png": {
       "height": 180,
       "width": 420
      }
     },
     "output_type": "display_data"
    }
   ],
   "source": [
    "count_plot( BusinessAge, df, title = 'Distribution of Business Age', lab = 'Business Age', cat_on_x = FALSE)"
   ]
  },
  {
   "cell_type": "code",
   "execution_count": 33,
   "metadata": {
    "vscode": {
     "languageId": "r"
    }
   },
   "outputs": [
    {
     "data": {
      "image/png": "[encoded data removed]",
      "text/plain": [
       "plot without title"
      ]
     },
     "metadata": {
      "image/png": {
       "height": 180,
       "width": 420
      }
     },
     "output_type": "display_data"
    }
   ],
   "source": [
    "df |>\n",
    "    group_by( BusinessAge) |>\n",
    "    summarise( chgoff_percentage = round( sum( chgoff) / ( sum( chgoff) + sum( pif)) * 100, 2)) |>\n",
    "    ggplot() +\n",
    "    aes( y = reorder( BusinessAge, chgoff_percentage), x = chgoff_percentage) +\n",
    "    geom_bar( stat = 'identity') +\n",
    "    labs( title = '% of Charged-Off Loans based on Business Age',\n",
    "            x = 'Business Type', y = '% of Charged-Off Loans')"
   ]
  },
  {
   "attachments": {},
   "cell_type": "markdown",
   "metadata": {},
   "source": [
    "While business age seems to associated with loan status, there are many null values in the column. This variable will not be useful in prediction loan risky."
   ]
  },
  {
   "attachments": {},
   "cell_type": "markdown",
   "metadata": {},
   "source": [
    "### `ThirdPartyDollars`"
   ]
  },
  {
   "cell_type": "code",
   "execution_count": 69,
   "metadata": {
    "vscode": {
     "languageId": "r"
    }
   },
   "outputs": [
    {
     "data": {
      "text/html": [
       "73.1314421558713"
      ],
      "text/latex": [
       "73.1314421558713"
      ],
      "text/markdown": [
       "73.1314421558713"
      ],
      "text/plain": [
       "[1] 73.13144"
      ]
     },
     "metadata": {},
     "output_type": "display_data"
    }
   ],
   "source": [
    "sum( is.na( df$ThirdPartyDollars)) / nrow( df) * 100"
   ]
  },
  {
   "attachments": {},
   "cell_type": "markdown",
   "metadata": {},
   "source": [
    "Many observations do not have third party dollars. Imputation will be performed by replace null values with 0."
   ]
  },
  {
   "cell_type": "code",
   "execution_count": 73,
   "metadata": {
    "vscode": {
     "languageId": "r"
    }
   },
   "outputs": [],
   "source": [
    "df <- df |>\n",
    "    mutate( ThirdPartyDollars = case_when( is.na( ThirdPartyDollars) ~ 0,\n",
    "                                            TRUE ~ ThirdPartyDollars))"
   ]
  },
  {
   "cell_type": "code",
   "execution_count": 91,
   "metadata": {
    "vscode": {
     "languageId": "r"
    }
   },
   "outputs": [],
   "source": [
    "boxplot <- function( column, data, title = '', lab = '', dollar = TRUE){\n",
    "    data |>\n",
    "        ggplot() +\n",
    "        aes( x = {{column}}, y = LoanStatus) +\n",
    "        geom_boxplot() +\n",
    "        labs( title = title, x = lab, y = 'Loan Status') + {\n",
    "            if (dollar)\n",
    "                scale_x_continuous( labels = scales::label_dollar(), trans='log10')\n",
    "            else {}\n",
    "        }\n",
    "        \n",
    "}"
   ]
  },
  {
   "cell_type": "code",
   "execution_count": 92,
   "metadata": {
    "vscode": {
     "languageId": "r"
    }
   },
   "outputs": [
    {
     "name": "stderr",
     "output_type": "stream",
     "text": [
      "Warning message:\n",
      "\"\u001b[1m\u001b[22mTransformation introduced infinite values in continuous x-axis\"\n",
      "Warning message:\n",
      "\"\u001b[1m\u001b[22mRemoved 41222 rows containing non-finite values (`stat_boxplot()`).\"\n"
     ]
    },
    {
     "data": {
      "image/png": "[encoded data removed]",
      "text/plain": [
       "plot without title"
      ]
     },
     "metadata": {
      "image/png": {
       "height": 180,
       "width": 420
      }
     },
     "output_type": "display_data"
    }
   ],
   "source": [
    "boxplot( ThirdPartyDollars, df, title = 'Distribution of Amount of Third Party Dollar', lab = 'Third Party Dollar')"
   ]
  },
  {
   "attachments": {},
   "cell_type": "markdown",
   "metadata": {},
   "source": [
    "It is possible that loans that are paid in full amount have received more third party fund. This feature is potentially useful in predicting loan risk."
   ]
  },
  {
   "attachments": {},
   "cell_type": "markdown",
   "metadata": {},
   "source": [
    "### `GrossApproval`"
   ]
  },
  {
   "cell_type": "code",
   "execution_count": 88,
   "metadata": {
    "vscode": {
     "languageId": "r"
    }
   },
   "outputs": [
    {
     "data": {
      "image/png": "[encoded data removed]",
      "text/plain": [
       "plot without title"
      ]
     },
     "metadata": {
      "image/png": {
       "height": 180,
       "width": 420
      }
     },
     "output_type": "display_data"
    }
   ],
   "source": [
    "boxplot( GrossApproval, df, title = 'Distribution of Gross Approval', lab = 'Gross Approval')"
   ]
  },
  {
   "attachments": {},
   "cell_type": "markdown",
   "metadata": {},
   "source": [
    "There is not visually obvious difference between 2 types of loans in terms of the amount approved. In fact, this variable may not be useful in predict risks in practice as the executives should tune the gross amount to be approved based on the risk of the loans."
   ]
  },
  {
   "attachments": {},
   "cell_type": "markdown",
   "metadata": {},
   "source": [
    "### `TermInMonths`"
   ]
  },
  {
   "cell_type": "code",
   "execution_count": 93,
   "metadata": {
    "vscode": {
     "languageId": "r"
    }
   },
   "outputs": [
    {
     "data": {
      "image/png": "[encoded data removed]",
      "text/plain": [
       "plot without title"
      ]
     },
     "metadata": {
      "image/png": {
       "height": 180,
       "width": 420
      }
     },
     "output_type": "display_data"
    }
   ],
   "source": [
    "boxplot( TermInMonths, df, title = 'Distribution of Term in Months', lab = 'Term in Months', dollar = FALSE)"
   ]
  },
  {
   "attachments": {},
   "cell_type": "markdown",
   "metadata": {},
   "source": [
    "No visual difference is observed in terms of term in months. Still, this column can be used in machine leanring models with feature selection process applied."
   ]
  },
  {
   "attachments": {},
   "cell_type": "markdown",
   "metadata": {},
   "source": [
    "### `GrossChargeOffAmount`"
   ]
  },
  {
   "cell_type": "code",
   "execution_count": 96,
   "metadata": {
    "vscode": {
     "languageId": "r"
    }
   },
   "outputs": [
    {
     "name": "stderr",
     "output_type": "stream",
     "text": [
      "Warning message:\n",
      "\"\u001b[1m\u001b[22mTransformation introduced infinite values in continuous x-axis\"\n",
      "Warning message:\n",
      "\"\u001b[1m\u001b[22mRemoved 50406 rows containing non-finite values (`stat_bin()`).\"\n"
     ]
    },
    {
     "data": {
      "image/png": "[encoded data removed]",
      "text/plain": [
       "plot without title"
      ]
     },
     "metadata": {
      "image/png": {
       "height": 180,
       "width": 420
      }
     },
     "output_type": "display_data"
    }
   ],
   "source": [
    "df |>\n",
    "    ggplot() +\n",
    "    aes( x = GrossChargeOffAmount) +\n",
    "    geom_histogram( bins = 50) +\n",
    "    scale_x_continuous( labels = scales::label_dollar(), trans='log10') +\n",
    "    labs( title = 'Distribution of Gross Charged-off Amount', x = 'Gross Charged-off Amount', y = 'Count')"
   ]
  },
  {
   "attachments": {},
   "cell_type": "markdown",
   "metadata": {},
   "source": [
    "This column in the data set will not be used to predict risks as amount charged-off is only known only when a loan is charged off."
   ]
  },
  {
   "attachments": {},
   "cell_type": "markdown",
   "metadata": {},
   "source": [
    "### `JobsSupported`"
   ]
  },
  {
   "cell_type": "code",
   "execution_count": 95,
   "metadata": {
    "vscode": {
     "languageId": "r"
    }
   },
   "outputs": [
    {
     "data": {
      "image/png": "[encoded data removed]",
      "text/plain": [
       "plot without title"
      ]
     },
     "metadata": {
      "image/png": {
       "height": 180,
       "width": 420
      }
     },
     "output_type": "display_data"
    }
   ],
   "source": [
    "boxplot( JobsSupported, df, title = 'Number of Jobs Supported by Business associated with 2 types of Lonas', lab = 'Jobs Supported', dollar = FALSE)"
   ]
  },
  {
   "attachments": {},
   "cell_type": "markdown",
   "metadata": {},
   "source": [
    "No visual difference is observed in terms of term in months. Still, this column can be used in machine leanring models with feature selection process applied."
   ]
  }
 ],
 "metadata": {
  "kernelspec": {
   "display_name": "R",
   "language": "R",
   "name": "ir"
  },
  "language_info": {
   "codemirror_mode": "r",
   "file_extension": ".r",
   "mimetype": "text/x-r-source",
   "name": "R",
   "pygments_lexer": "r",
   "version": "4.2.1"
  },
  "orig_nbformat": 4,
  "vscode": {
   "interpreter": {
    "hash": "e05ab16366b0e3b7c7f2eb92ad5b7844d0b18945653a8a17684fdb45526516c6"
   }
  }
 },
 "nbformat": 4,
 "nbformat_minor": 2
}
